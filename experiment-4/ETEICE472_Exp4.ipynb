{
  "nbformat": 4,
  "nbformat_minor": 0,
  "metadata": {
    "colab": {
      "name": "ETEICE472 Exp4.ipynb",
      "provenance": [],
      "collapsed_sections": [],
      "authorship_tag": "ABX9TyOta6P+7j9GQI/nrkxiNQf+",
      "include_colab_link": true
    },
    "kernelspec": {
      "name": "python3",
      "display_name": "Python 3"
    }
  },
  "cells": [
    {
      "cell_type": "markdown",
      "metadata": {
        "id": "view-in-github",
        "colab_type": "text"
      },
      "source": [
        "<a href=\"https://colab.research.google.com/github/suhailnajeeb/ete-ice-472/blob/master/experiment-4/ETEICE472_Exp4.ipynb\" target=\"_parent\"><img src=\"https://colab.research.google.com/assets/colab-badge.svg\" alt=\"Open In Colab\"/></a>"
      ]
    },
    {
      "cell_type": "markdown",
      "metadata": {
        "id": "K08mEqrC0a6o"
      },
      "source": [
        "# ETE ICE 472 Experiment 4\n",
        "\n"
      ]
    },
    {
      "cell_type": "markdown",
      "metadata": {
        "id": "I4LQRcBOnkZO"
      },
      "source": [
        "## Histograms"
      ]
    },
    {
      "cell_type": "markdown",
      "metadata": {
        "id": "bXxYovv7nmJC"
      },
      "source": [
        "### Library Imports"
      ]
    },
    {
      "cell_type": "code",
      "metadata": {
        "id": "Ui_Y8BIIoH3T"
      },
      "source": [
        "import matplotlib\n",
        "import matplotlib.pyplot as plt\n",
        "import numpy as np\n",
        "\n",
        "from skimage import data, img_as_float\n",
        "from skimage import exposure\n",
        "from skimage.exposure import match_histograms"
      ],
      "execution_count": null,
      "outputs": []
    },
    {
      "cell_type": "markdown",
      "metadata": {
        "id": "nihqL4eLrKot"
      },
      "source": [
        "### Loading The Image"
      ]
    },
    {
      "cell_type": "code",
      "metadata": {
        "id": "RHsxbHwZpBa4"
      },
      "source": [
        "img = data.moon()\n",
        "bins = 256"
      ],
      "execution_count": null,
      "outputs": []
    },
    {
      "cell_type": "code",
      "metadata": {
        "id": "xTxTfxH0pocu"
      },
      "source": [
        "plt.imshow(img, cmap = 'gray')\n",
        "plt.show()"
      ],
      "execution_count": null,
      "outputs": []
    },
    {
      "cell_type": "markdown",
      "metadata": {
        "id": "HW2aluovrPxq"
      },
      "source": [
        "## Plotting The Histogram & CDF of the image: "
      ]
    },
    {
      "cell_type": "code",
      "metadata": {
        "id": "UVsLFs6rpEo_"
      },
      "source": [
        "plt.hist(img.ravel(), bins = bins)\n",
        "plt.show()"
      ],
      "execution_count": null,
      "outputs": []
    },
    {
      "cell_type": "code",
      "metadata": {
        "id": "o8QkvUz-qrFX"
      },
      "source": [
        "img_cdf, bins = exposure.cumulative_distribution(img, bins)\n",
        "plt.plot(bins, img_cdf, 'r')\n",
        "plt.show()"
      ],
      "execution_count": null,
      "outputs": []
    },
    {
      "cell_type": "markdown",
      "metadata": {
        "id": "x8sslPdJrUqR"
      },
      "source": [
        "## Histogram Equalization:"
      ]
    },
    {
      "cell_type": "code",
      "metadata": {
        "id": "Z9GoCmMGnq85"
      },
      "source": [
        "# Equalization\n",
        "img_eq = exposure.equalize_hist(img)\n",
        "img_eq = np.round(img_eq*255)\n",
        "plt.imshow(img_eq, cmap = 'gray')\n",
        "plt.show()"
      ],
      "execution_count": null,
      "outputs": []
    },
    {
      "cell_type": "code",
      "metadata": {
        "id": "nLigllBsq8B5"
      },
      "source": [
        "plt.hist(img_eq.ravel(), bins = bins)\n",
        "plt.show()"
      ],
      "execution_count": null,
      "outputs": []
    },
    {
      "cell_type": "code",
      "metadata": {
        "id": "IbXpy6J-rBtr"
      },
      "source": [
        "img_cdf, bins = exposure.cumulative_distribution(img_eq, bins)\n",
        "plt.plot(bins, img_cdf, 'r')\n",
        "plt.show()"
      ],
      "execution_count": null,
      "outputs": []
    },
    {
      "cell_type": "markdown",
      "metadata": {
        "id": "PGeD6vE6rFrA"
      },
      "source": [
        "## Histogram Matching/Specification:"
      ]
    },
    {
      "cell_type": "code",
      "metadata": {
        "id": "C8m2K_KRrbll"
      },
      "source": [
        "reference = data.coffee()\n",
        "image = data.chelsea()\n",
        "\n",
        "matched = match_histograms(image, reference, multichannel=True)"
      ],
      "execution_count": null,
      "outputs": []
    },
    {
      "cell_type": "code",
      "metadata": {
        "id": "CffzYR-YrpUp"
      },
      "source": [
        "plt.imshow(image, cmap = 'gray')\n",
        "plt.show()"
      ],
      "execution_count": null,
      "outputs": []
    },
    {
      "cell_type": "code",
      "metadata": {
        "id": "qyb3mXXFsABY"
      },
      "source": [
        "plt.imshow(reference, cmap = 'gray')\n",
        "plt.show()"
      ],
      "execution_count": null,
      "outputs": []
    },
    {
      "cell_type": "code",
      "metadata": {
        "id": "nwhKOkt5sD7p"
      },
      "source": [
        "plt.imshow(matched, cmap = 'gray')\n",
        "plt.show()"
      ],
      "execution_count": null,
      "outputs": []
    },
    {
      "cell_type": "code",
      "metadata": {
        "id": "PTG2aaNWsHeR"
      },
      "source": [
        "fig, axes = plt.subplots(nrows=3, ncols=3, figsize=(8, 8))\n",
        "\n",
        "\n",
        "for i, img in enumerate((image, reference, matched)):\n",
        "    for c, c_color in enumerate(('red', 'green', 'blue')):\n",
        "        img_hist, bins = exposure.histogram(img[..., c], source_range='dtype')\n",
        "        axes[c, i].plot(bins, img_hist / img_hist.max())\n",
        "        img_cdf, bins = exposure.cumulative_distribution(img[..., c])\n",
        "        axes[c, i].plot(bins, img_cdf)\n",
        "        axes[c, 0].set_ylabel(c_color)\n",
        "\n",
        "axes[0, 0].set_title('Source')\n",
        "axes[0, 1].set_title('Reference')\n",
        "axes[0, 2].set_title('Matched')\n",
        "\n",
        "plt.tight_layout()\n",
        "plt.show()"
      ],
      "execution_count": null,
      "outputs": []
    },
    {
      "cell_type": "markdown",
      "metadata": {
        "id": "XxZejnY-sVSu"
      },
      "source": [
        "## Assignment: "
      ]
    },
    {
      "cell_type": "markdown",
      "metadata": {
        "id": "ZP8H4gDFsc3Z"
      },
      "source": [
        "1. Run this notebook and produce outputs. \n",
        "\n",
        "Say you have two images (a) & (b). Perform the following tasks: \n",
        "\n",
        "2. Equalize the histogram for image (a) and show the equalized histogram. \n",
        "3. Apply histogram matching to image (a) so that it's histogram matches image (b). Show the histogram of the image (b) and the image (c) and compare the histograms. \n",
        "\n",
        "4. Write a brief discussion\n",
        "\n",
        "\n",
        "Link to image (a): https://raw.githubusercontent.com/suhailnajeeb/ete-ice-472/master/experiment-4/image.jpg  \n",
        "Link to image (b): https://raw.githubusercontent.com/suhailnajeeb/ete-ice-472/master/experiment-4/reference.jpg"
      ]
    },
    {
      "cell_type": "markdown",
      "metadata": {
        "id": "p7npXrqntNUx"
      },
      "source": [
        "Assignment Task 1: "
      ]
    },
    {
      "cell_type": "code",
      "metadata": {
        "id": "WxSiScq8tJye"
      },
      "source": [
        ""
      ],
      "execution_count": null,
      "outputs": []
    },
    {
      "cell_type": "code",
      "metadata": {
        "id": "lUeowrwUtLiU"
      },
      "source": [
        ""
      ],
      "execution_count": null,
      "outputs": []
    },
    {
      "cell_type": "code",
      "metadata": {
        "id": "nVWv_83PtL16"
      },
      "source": [
        ""
      ],
      "execution_count": null,
      "outputs": []
    },
    {
      "cell_type": "markdown",
      "metadata": {
        "id": "qvUC8DLttQfZ"
      },
      "source": [
        "Assignment Task 2: "
      ]
    },
    {
      "cell_type": "code",
      "metadata": {
        "id": "eowGuCyAtMOz"
      },
      "source": [
        ""
      ],
      "execution_count": null,
      "outputs": []
    },
    {
      "cell_type": "code",
      "metadata": {
        "id": "V_bcuPLwtMVV"
      },
      "source": [
        ""
      ],
      "execution_count": null,
      "outputs": []
    },
    {
      "cell_type": "code",
      "metadata": {
        "id": "n004txXVtMbM"
      },
      "source": [
        ""
      ],
      "execution_count": null,
      "outputs": []
    },
    {
      "cell_type": "markdown",
      "metadata": {
        "id": "vfrscQE3tMhn"
      },
      "source": [
        "Discussion: "
      ]
    },
    {
      "cell_type": "code",
      "metadata": {
        "id": "JHuW7Kv8tdyB"
      },
      "source": [
        "'''\n",
        "\n",
        "Write your discussion here: \n",
        "\n",
        "\n",
        "\n",
        "'''"
      ],
      "execution_count": null,
      "outputs": []
    }
  ]
}
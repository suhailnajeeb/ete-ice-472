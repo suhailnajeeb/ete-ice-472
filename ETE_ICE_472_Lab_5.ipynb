{
  "nbformat": 4,
  "nbformat_minor": 0,
  "metadata": {
    "colab": {
      "name": "ETE ICE 472 Lab 5.ipynb",
      "provenance": [],
      "authorship_tag": "ABX9TyMb4Vhgvj1VTWvpJ6GnRxiS",
      "include_colab_link": true
    },
    "kernelspec": {
      "name": "python3",
      "display_name": "Python 3"
    },
    "language_info": {
      "name": "python"
    }
  },
  "cells": [
    {
      "cell_type": "markdown",
      "metadata": {
        "id": "view-in-github",
        "colab_type": "text"
      },
      "source": [
        "<a href=\"https://colab.research.google.com/github/suhailnajeeb/ete-ice-472/blob/master/ETE_ICE_472_Lab_5.ipynb\" target=\"_parent\"><img src=\"https://colab.research.google.com/assets/colab-badge.svg\" alt=\"Open In Colab\"/></a>"
      ]
    },
    {
      "cell_type": "markdown",
      "metadata": {
        "id": "lDVQC2d2tMwf"
      },
      "source": [
        "# **ETE/ICE 472: Experiment 5**\n",
        "\n",
        "# **Spatial Filtering**"
      ]
    },
    {
      "cell_type": "markdown",
      "metadata": {
        "id": "avFwZockufQm"
      },
      "source": [
        "## 1.1: 2D Convolution"
      ]
    },
    {
      "cell_type": "code",
      "metadata": {
        "id": "RGvzmllXiHoP"
      },
      "source": [
        "import numpy as np\n",
        "from scipy import ndimage"
      ],
      "execution_count": null,
      "outputs": []
    },
    {
      "cell_type": "code",
      "metadata": {
        "id": "ZK1kmqk_iLpO"
      },
      "source": [
        "a = np.array([\n",
        "              [1, 2, 0, 0],\n",
        "              [5, 3, 0, 4],\n",
        "              [0, 0, 0, 7],\n",
        "              [9, 3, 0, 0]\n",
        "\n",
        "])\n",
        "\n",
        "k = np.array([\n",
        "              [1, 1, 1],\n",
        "              [1, 1, 0],\n",
        "              [1, 0, 0]\n",
        "])"
      ],
      "execution_count": null,
      "outputs": []
    },
    {
      "cell_type": "code",
      "metadata": {
        "id": "yF4ruM10ieuh"
      },
      "source": [
        "ndimage.convolve(a, k, mode = 'constant', cval = 0.0)"
      ],
      "execution_count": null,
      "outputs": []
    },
    {
      "cell_type": "markdown",
      "metadata": {
        "id": "bUp0xqGjjr4I"
      },
      "source": [
        "## 1.2: Mean Filters"
      ]
    },
    {
      "cell_type": "code",
      "metadata": {
        "id": "uNqcygpJj9nI"
      },
      "source": [
        "image = data.coins()\n",
        "\n",
        "k3 = np.ones((3,3))/9\n",
        "k5 = np.ones((5,5))/25\n",
        "k7 = np.ones((7,7))/49\n",
        "\n",
        "\n",
        "image_mean3 = ndimage.convolve(image, k3, mode = 'constant', cval = 0.0)\n",
        "image_mean5 = ndimage.convolve(image, k5, mode = 'constant', cval = 0.0)\n",
        "image_mean7 = ndimage.convolve(image, k7, mode = 'constant', cval = 0.0)\n",
        "\n",
        "\n",
        "fig, axes = plt.subplots(nrows = 2, ncols = 2, figsize = (10, 10), sharex=True, sharey=True)\n",
        "\n",
        "ax = axes.ravel()\n",
        "\n",
        "titles = ['Original Image', '3x3 Mean Filtering', '5x5 Mean Filtering', '7x7 Mean Filtering']\n",
        "imgs = [image, image_mean3, image_mean5, image_mean7]\n",
        "\n",
        "for n in range(0, len(imgs)):\n",
        "    ax[n].imshow(imgs[n], cmap = plt.cm.gray)\n",
        "    ax[n].set_title(titles[n])\n",
        "    ax[n].axis('off')\n",
        "\n",
        "plt.tight_layout()\n",
        "plt.show()"
      ],
      "execution_count": null,
      "outputs": []
    },
    {
      "cell_type": "markdown",
      "metadata": {
        "id": "VXQliDm4m85t"
      },
      "source": [
        "# Noise Removal from Images"
      ]
    },
    {
      "cell_type": "markdown",
      "metadata": {
        "id": "-p7nphB6m4UN"
      },
      "source": [
        "## 2.1: Median Filters"
      ]
    },
    {
      "cell_type": "code",
      "metadata": {
        "id": "fwwx4yvBnWLz"
      },
      "source": [
        "import numpy as np\n",
        "import matplotlib.pyplot as plt\n",
        "\n",
        "from skimage.util import img_as_ubyte\n",
        "from skimage import data\n",
        "from skimage.exposure import histogram\n",
        "\n",
        "noisy_image = img_as_ubyte(data.camera())\n",
        "\n",
        "hist, hist_centers = histogram(noisy_image)\n",
        "\n",
        "\n",
        "fig, ax = plt.subplots(ncols=2, figsize=(10, 5))\n",
        "\n",
        "ax[0].imshow(noisy_image, cmap=plt.cm.gray)\n",
        "ax[0].axis('off')\n",
        "\n",
        "ax[1].plot(hist_centers, hist, lw=2)\n",
        "ax[1].set_title('Gray-level histogram')\n",
        "\n",
        "plt.tight_layout()"
      ],
      "execution_count": null,
      "outputs": []
    },
    {
      "cell_type": "code",
      "metadata": {
        "id": "jtf72pA2m35F"
      },
      "source": [
        "from skimage.filters.rank import median\n",
        "from skimage.morphology import disk, ball\n",
        "\n",
        "noise = np.random.random(noisy_image.shape)\n",
        "noisy_image = img_as_ubyte(data.camera())\n",
        "noisy_image[noise > 0.99] = 255\n",
        "noisy_image[noise < 0.01] = 0\n",
        "\n",
        "fig, axes = plt.subplots(2, 2, figsize=(10, 10), sharex=True, sharey=True)\n",
        "ax = axes.ravel()\n",
        "\n",
        "ax[0].imshow(noisy_image, vmin=0, vmax=255, cmap=plt.cm.gray)\n",
        "ax[0].set_title('Noisy image')\n",
        "\n",
        "ax[1].imshow(median(noisy_image, disk(1)), vmin=0, vmax=255, cmap=plt.cm.gray)\n",
        "ax[1].set_title('Median $r=1$')\n",
        "\n",
        "ax[2].imshow(median(noisy_image, disk(5)), vmin=0, vmax=255, cmap=plt.cm.gray)\n",
        "ax[2].set_title('Median $r=5$')\n",
        "\n",
        "ax[3].imshow(median(noisy_image, disk(20)), vmin=0, vmax=255, cmap=plt.cm.gray)\n",
        "ax[3].set_title('Median $r=20$')\n",
        "\n",
        "for a in ax:\n",
        "    a.axis('off')\n",
        "\n",
        "plt.tight_layout()"
      ],
      "execution_count": null,
      "outputs": []
    },
    {
      "cell_type": "markdown",
      "metadata": {
        "id": "JXp0aio0odrc"
      },
      "source": [
        "## 2.2: Noise Removal with Mean Filtering"
      ]
    },
    {
      "cell_type": "code",
      "metadata": {
        "id": "-eorbdkOocrV"
      },
      "source": [
        "from skimage.filters.rank import mean\n",
        "\n",
        "loc_mean = mean(noisy_image, disk(5))\n",
        "\n",
        "fig, ax = plt.subplots(ncols=2, figsize=(10, 5), sharex=True, sharey=True)\n",
        "\n",
        "ax[0].imshow(noisy_image, vmin=0, vmax=255, cmap=plt.cm.gray)\n",
        "ax[0].set_title('Original')\n",
        "\n",
        "ax[1].imshow(loc_mean, vmin=0, vmax=255, cmap=plt.cm.gray)\n",
        "ax[1].set_title('Local mean $r=5$')\n",
        "\n",
        "for a in ax:\n",
        "    a.axis('off')\n",
        "\n",
        "plt.tight_layout()"
      ],
      "execution_count": null,
      "outputs": []
    },
    {
      "cell_type": "markdown",
      "metadata": {
        "id": "qUHu5lGKpQpU"
      },
      "source": [
        "# Image Sharpening"
      ]
    },
    {
      "cell_type": "markdown",
      "metadata": {
        "id": "gTNLtuckur_f"
      },
      "source": [
        "## 3.1: The Laplacian Filter"
      ]
    },
    {
      "cell_type": "code",
      "metadata": {
        "id": "bgrkL1N3pP1v"
      },
      "source": [
        "lfp = np.array([\n",
        "                [0, -1, 0],\n",
        "                [-1, 4, -1],\n",
        "                [0, -1, 0]\n",
        "])\n",
        "\n",
        "lfn = -1*lfp\n",
        "\n",
        "lf = np.array([\n",
        "                [0, -1, 0],\n",
        "                [-1, 5, -1],\n",
        "                [0, -1, 0]\n",
        "])\n",
        "\n",
        "\n",
        "image = data.microaneurysms()\n",
        "image_lfp = ndimage.convolve(image, lfp, mode = 'reflect')\n",
        "image_lfn = ndimage.convolve(image, lfn, mode = 'reflect')\n",
        "image_sharp = ndimage.convolve(image, lf, mode = 'reflect')\n",
        "\n",
        "fig, axes = plt.subplots(nrows = 2, ncols = 2, figsize = (10, 10), sharex=True, sharey=True)\n",
        "\n",
        "ax = axes.ravel()\n",
        "\n",
        "titles = ['Original Image', '+ve Laplacian Filter', '-ve Laplacian Filter', 'Resulting Sharp Image']\n",
        "imgs = [image, image_lfp, image_lfn, image_sharp]\n",
        "\n",
        "for n in range(0, len(imgs)):\n",
        "    ax[n].imshow(imgs[n], cmap = plt.cm.gray)\n",
        "    ax[n].set_title(titles[n])\n",
        "    ax[n].axis('off')\n",
        "\n",
        "plt.tight_layout()\n",
        "plt.show()"
      ],
      "execution_count": null,
      "outputs": []
    },
    {
      "cell_type": "markdown",
      "metadata": {
        "id": "wNRKC4iejS-Z"
      },
      "source": [
        "## 3.2: Unsharp Masking"
      ]
    },
    {
      "cell_type": "code",
      "metadata": {
        "id": "_GPGLqGUjUlo"
      },
      "source": [
        "from skimage import data\n",
        "from skimage.filters import unsharp_mask\n",
        "import matplotlib.pyplot as plt\n",
        "\n",
        "image = data.moon()\n",
        "result_1 = unsharp_mask(image, radius=1, amount=1)\n",
        "result_2 = unsharp_mask(image, radius=5, amount=2)\n",
        "result_3 = unsharp_mask(image, radius=20, amount=1)\n",
        "\n",
        "fig, axes = plt.subplots(nrows=2, ncols=2,\n",
        "                         sharex=True, sharey=True, figsize=(10, 10))\n",
        "ax = axes.ravel()\n",
        "\n",
        "ax[0].imshow(image, cmap=plt.cm.gray)\n",
        "ax[0].set_title('Original image')\n",
        "ax[1].imshow(result_1, cmap=plt.cm.gray)\n",
        "ax[1].set_title('Enhanced image, radius=1, amount=1.0')\n",
        "ax[2].imshow(result_2, cmap=plt.cm.gray)\n",
        "ax[2].set_title('Enhanced image, radius=5, amount=2.0')\n",
        "ax[3].imshow(result_3, cmap=plt.cm.gray)\n",
        "ax[3].set_title('Enhanced image, radius=20, amount=1.0')\n",
        "\n",
        "for a in ax:\n",
        "    a.axis('off')\n",
        "fig.tight_layout()\n",
        "plt.show()"
      ],
      "execution_count": null,
      "outputs": []
    },
    {
      "cell_type": "markdown",
      "metadata": {
        "id": "xxHcyaMwu0AN"
      },
      "source": [
        "# Assignment\n",
        "\n",
        "\n",
        "It is not necessary to produce the outputs of this notebook for this assignment. You should do all the tasks in a separate notebook of your own. \n",
        "\n",
        "1.  (a) Pick an image of your choice and load the image as a GrayScale Image  \n",
        "(b) Add Random Noise to the image as is done in Section 2.1  \n",
        "(c) Show a plot and histogram of the Noisy Image  \n",
        "(d) Try removing Noise of the Image using Mean Filtering  \n",
        "(e) Try removing Noise of the Image using Median Filtering  \n",
        "(f) Compare the results & Histogram of Mean Filtering vs. Median Filtering. \n",
        "\n",
        "2. We know that High-Boost filtering follows the following formula:\n",
        "\n",
        "<img src = 'https://raw.githubusercontent.com/suhailnajeeb/ete-ice-472/master/experiment-5/hbftheory.jpg'>\n",
        "\n",
        "(a) Load the following image: https://raw.githubusercontent.com/suhailnajeeb/ete-ice-472/master/experiment-5/boost.jpg  (As a grayscale iamge)  \n",
        "(b) Apply High Pass filtering to Sharpen the image and show results  \n",
        "(c) Use the above formula to apply High-Boost Filtering to the image. Experiment with different values of A to get the best result where A >= 1.\n",
        "\n",
        "[Write a brief discussion on your assignment. The discussion should include: Comparison between the results of Mean/Median filterings and conclusions from the results. Comparison between the results of laplacian filtering and high-boost filtering and conclusions.] \n",
        "\n"
      ]
    }
  ]
}